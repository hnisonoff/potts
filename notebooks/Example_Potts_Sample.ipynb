{
 "cells": [
  {
   "cell_type": "code",
   "execution_count": 1,
   "id": "70c7a30d",
   "metadata": {
    "collapsed": false
   },
   "outputs": [],
   "source": [
    "%load_ext autoreload\n",
    "%autoreload 2"
   ]
  },
  {
   "cell_type": "code",
   "execution_count": 2,
   "id": "b9b44fd3",
   "metadata": {
    "collapsed": false
   },
   "outputs": [
    {
     "name": "stderr",
     "output_type": "stream",
     "text": [
      "/data/mambaforge/envs/pytorch_hunter/lib/python3.10/site-packages/esm/pretrained.py:215: UserWarning: Regression weights not found, predicting contacts will not produce correct results.\n",
      "  warnings.warn(\n"
     ]
    }
   ],
   "source": [
    "import os\n",
    "import numpy as np\n",
    "import pandas as pd\n",
    "#from evcouplings.align import Alignment, map_matrix, ALPHABET_RNA, ALPHABET_PROTEIN\n",
    "ALPHABET_PROTEIN = '-ACDEFGHIKLMNPQRSTVWY'\n",
    "from collections import OrderedDict\n",
    "from torch.utils.data import DataLoader, TensorDataset\n",
    "from tqdm import tqdm\n",
    "from sklearn.metrics import roc_auc_score\n",
    "\n",
    "from itertools import combinations, product\n",
    "import torch\n",
    "import seaborn as sns\n",
    "import matplotlib.pyplot as plt\n",
    "from matplotlib import rcParams\n",
    "from joblib import Parallel, delayed, parallel_backend\n",
    "from pathlib import Path\n",
    "from Bio import SeqIO\n",
    "\n",
    "import scipy.stats\n",
    "from scipy.stats import spearmanr\n",
    "from potts import Potts\n",
    "from potts.mcmc import GWGCategoricalSampler, ReplayBuffer, CategoricalGibbsSampler, OneHotCategorical, CategoricalMetropolistHastingsSampler, PottsGWGCategoricalSampler, UniformCategoricalSampler, PottsGWGHardWallCategoricalSampler\n",
    "from potts.structure import get_single_double_mutants, esm_inv_nll_from_encoder, esm_inv_batch_encoding, potts_from_nlls\n",
    "import pandas as pd\n",
    "import torch.nn.functional as F\n",
    "from sklearn.metrics import roc_auc_score"
   ]
  },
  {
   "cell_type": "code",
   "execution_count": 3,
   "id": "4c453961",
   "metadata": {
    "collapsed": false
   },
   "outputs": [],
   "source": [
    "torch.cuda.set_device(0)"
   ]
  },
  {
   "cell_type": "code",
   "execution_count": 4,
   "id": "b536ea78",
   "metadata": {
    "collapsed": false
   },
   "outputs": [],
   "source": [
    "def encode(seqs, alphabet=ALPHABET_PROTEIN, verbose=True):\n",
    "    '''\n",
    "    Go from letters to numbers\n",
    "    '''\n",
    "    aa_to_i = OrderedDict((aa, i) for i, aa in enumerate( alphabet ))\n",
    "    if verbose:\n",
    "        seq_iter = tqdm(seqs)\n",
    "    else:\n",
    "        seq_iter = seqs\n",
    "    X = torch.tensor([[aa_to_i[x] for x in seq] \n",
    "                      for seq in seq_iter])\n",
    "    return X, aa_to_i"
   ]
  },
  {
   "cell_type": "code",
   "execution_count": 13,
   "id": "1fb45bea",
   "metadata": {
    "collapsed": false
   },
   "outputs": [],
   "source": [
    "def train_sgd(model, train_X, train_w, lam, bs=1000, lr=1e-1, device='cuda', n_epoch=10,\n",
    "              mut_seqs_onehot=None, y_dms=None, contact_map=None):\n",
    "    L, A = model.L, model.A\n",
    "    wrs = torch.utils.data.WeightedRandomSampler(train_w / train_w.sum(), len(train_X), replacement=True)\n",
    "    bs = min(len(train_X), bs)\n",
    "    train_dl = DataLoader(TensorDataset(train_X, train_w), batch_size=bs, drop_last=True, sampler=wrs)\n",
    "    model.to(device)\n",
    "    optim = torch.optim.SGD(model.parameters(), lr=lr)\n",
    "    epoch_iter = tqdm(range(n_epoch), total=n_epoch, position=0)\n",
    "    num_iters = 0\n",
    "    spearman = 0\n",
    "\n",
    "    if not contact_map is None:\n",
    "        contact_map = torch.tensor(contact_map).unsqueeze(-1).unsqueeze(-1).cuda()\n",
    "    for epoch in epoch_iter:\n",
    "        epoch_l = 0.0\n",
    "        model.train()\n",
    "        total_train_pl = []\n",
    "        total_w = []\n",
    "        for X, w in train_dl:\n",
    "            X, w = X.to(device), w.to(device)\n",
    "            optim.zero_grad()\n",
    "            mask = X.argmax(dim=-1) != 0\n",
    "            mask_w = mask.sum(dim=-1) / mask.shape[-1]\n",
    "            pl = model.pseudolikelihood(X, mask=mask) * mask_w\n",
    "            #pl = model.pseudolikelihood(X, mask=None)\n",
    "            loss = -(w * pl).sum() / w.sum()\n",
    "            epoch_l += (-(w * pl).sum()).item()\n",
    "            # regularization\n",
    "            W = model.W.weight\n",
    "            reg_loss = (model.h ** 2).sum()\n",
    "            reg_loss += ((W ** 2).sum() ) * (model.L - 1) * (model.A - 1)\n",
    "            loss += lam * reg_loss \n",
    "            loss.backward()\n",
    "            optim.step()\n",
    "\n",
    "            num_iters += 1\n",
    "            #epoch_iter.set_postfix(spearman=spearman, num_iters=num_iters, loss=loss.item(), reg_loss=lam*reg_loss.item())\n",
    "        if not (mut_seqs_onehot is None):\n",
    "            with torch.no_grad():\n",
    "                bs = 1000\n",
    "                all_preds = []\n",
    "                for i in range(np.ceil(len(mut_seqs_onehot) / bs).astype(int)):\n",
    "                    prior_pred = -model(mut_seqs_onehot[i*bs:(i+1)*bs].to(device)).cpu().numpy()\n",
    "                    all_preds.append(prior_pred)\n",
    "                all_preds = np.concatenate(all_preds)\n",
    "                spearman = spearmanr(all_preds, y_dms).correlation\n",
    "                epoch_iter.set_postfix(spearman=spearman, num_iters=num_iters, loss=loss.item(), mem=torch.cuda.memory_allocated() , epoch_l=epoch_l)\n",
    "    model.eval()\n",
    "    return model\n"
   ]
  },
  {
   "cell_type": "code",
   "execution_count": 7,
   "id": "56953a4e",
   "metadata": {
    "collapsed": false
   },
   "outputs": [
    {
     "name": "stdout",
     "output_type": "stream",
     "text": [
      "\n",
      "EVmutation Spearman: 0.707\n"
     ]
    }
   ],
   "source": [
    "df = pd.read_csv('/home/hunter/projects/recombination/ProteinGym/Tranception/proteingym/Detailed_performance_files/Substitutions/Spearman/all_models_substitutions_Spearman_DMS_level.csv')\n",
    "df = df.rename(columns={df.columns[0]: 'Dataset'})\n",
    "dataset = 'BLAT_ECOLX_Stiffler_2015'\n",
    "\n",
    "# get beta-lactamase MSA\n",
    "msa_fn = Path('/home/hunter/projects/recombination/ProteinGym/MSA_files/BLAT_ECOLX_full_11-26-2021_b02.a2m')\n",
    "# get beta-lactamase DMS data\n",
    "mut_fn = Path('/home/hunter/projects/recombination/ProteinGym/ProteinGym_substitutions/BLAT_ECOLX_Stiffler_2015.csv')\n",
    "# get beta-lactamase MSA sequence weights\n",
    "weight_fn = Path('/home/hunter/projects/recombination/ProteinGym/substitutions_MSAs_all_positions/BLAT_ECOLX_theta_0.2.npy')\n",
    "# get ProteinGym results\n",
    "res_fn = Path('/home/hunter/projects/recombination/ProteinGym/substitutions/BLAT_ECOLX_Stiffler_2015.csv')\n",
    "\n",
    "\n",
    "mut_df = pd.read_csv(mut_fn)\n",
    "res_df = pd.read_csv(res_fn)\n",
    "\n",
    "\n",
    "y_bin = mut_df.DMS_score_bin.to_numpy()\n",
    "ev_spearman = scipy.stats.spearmanr(res_df.EVmutation, res_df.DMS_score).correlation\n",
    "print()\n",
    "print(f\"EVmutation Spearman: {ev_spearman:.3f}\", )"
   ]
  },
  {
   "cell_type": "code",
   "execution_count": 8,
   "id": "91b558c5",
   "metadata": {
    "collapsed": false
   },
   "outputs": [],
   "source": [
    "aa_to_i = OrderedDict((aa, i) for i, aa in enumerate( ALPHABET_PROTEIN ))\n",
    "y_dms = res_df.DMS_score.to_numpy()\n",
    "mut_seqs = mut_df.mutated_sequence.map(lambda x: [aa_to_i[x[i]] for i in range(len(x))]).to_list()\n",
    "mut_seqs = torch.tensor(mut_seqs)\n",
    "mut_seqs_onehot = torch.nn.functional.one_hot(mut_seqs, num_classes=len(ALPHABET_PROTEIN)).to(torch.float)\n"
   ]
  },
  {
   "cell_type": "code",
   "execution_count": 9,
   "id": "81c0f0fb",
   "metadata": {
    "collapsed": false
   },
   "outputs": [
    {
     "name": "stderr",
     "output_type": "stream",
     "text": [
      "\r",
      "  0%|                                                                                                                                                             | 0/208923 [00:00<?, ?it/s]"
     ]
    },
    {
     "name": "stderr",
     "output_type": "stream",
     "text": [
      "\r",
      "  1%|█▉                                                                                                                                             | 2904/208923 [00:00<00:07, 29034.49it/s]"
     ]
    },
    {
     "name": "stderr",
     "output_type": "stream",
     "text": [
      "\r",
      "  3%|███▉                                                                                                                                           | 5808/208923 [00:00<00:07, 28997.33it/s]"
     ]
    },
    {
     "name": "stderr",
     "output_type": "stream",
     "text": [
      "\r",
      "  4%|█████▉                                                                                                                                         | 8708/208923 [00:00<00:06, 28947.74it/s]"
     ]
    },
    {
     "name": "stderr",
     "output_type": "stream",
     "text": [
      "\r",
      "  6%|███████▉                                                                                                                                      | 11603/208923 [00:00<00:06, 28493.89it/s]"
     ]
    },
    {
     "name": "stderr",
     "output_type": "stream",
     "text": [
      "\r",
      "  7%|█████████▊                                                                                                                                    | 14510/208923 [00:00<00:06, 28699.10it/s]"
     ]
    },
    {
     "name": "stderr",
     "output_type": "stream",
     "text": [
      "\r",
      "  8%|███████████▊                                                                                                                                  | 17401/208923 [00:00<00:06, 28769.22it/s]"
     ]
    },
    {
     "name": "stderr",
     "output_type": "stream",
     "text": [
      "\r",
      " 10%|█████████████▊                                                                                                                                | 20279/208923 [00:00<00:06, 28417.50it/s]"
     ]
    },
    {
     "name": "stderr",
     "output_type": "stream",
     "text": [
      "\r",
      " 11%|███████████████▊                                                                                                                              | 23173/208923 [00:00<00:06, 28579.59it/s]"
     ]
    },
    {
     "name": "stderr",
     "output_type": "stream",
     "text": [
      "\r",
      " 12%|█████████████████▋                                                                                                                            | 26072/208923 [00:00<00:06, 28704.53it/s]"
     ]
    },
    {
     "name": "stderr",
     "output_type": "stream",
     "text": [
      "\r",
      " 14%|███████████████████▋                                                                                                                          | 28944/208923 [00:01<00:06, 28285.13it/s]"
     ]
    },
    {
     "name": "stderr",
     "output_type": "stream",
     "text": [
      "\r",
      " 15%|█████████████████████▋                                                                                                                        | 31828/208923 [00:01<00:06, 28449.94it/s]"
     ]
    },
    {
     "name": "stderr",
     "output_type": "stream",
     "text": [
      "\r",
      " 17%|███████████████████████▌                                                                                                                      | 34709/208923 [00:01<00:06, 28555.39it/s]"
     ]
    },
    {
     "name": "stderr",
     "output_type": "stream",
     "text": [
      "\r",
      " 18%|█████████████████████████▌                                                                                                                    | 37566/208923 [00:01<00:08, 20601.53it/s]"
     ]
    },
    {
     "name": "stderr",
     "output_type": "stream",
     "text": [
      "\r",
      " 19%|███████████████████████████▍                                                                                                                  | 40380/208923 [00:01<00:07, 22384.93it/s]"
     ]
    },
    {
     "name": "stderr",
     "output_type": "stream",
     "text": [
      "\r",
      " 21%|█████████████████████████████▍                                                                                                                | 43248/208923 [00:01<00:06, 23973.90it/s]"
     ]
    },
    {
     "name": "stderr",
     "output_type": "stream",
     "text": [
      "\r",
      " 22%|███████████████████████████████▏                                                                                                              | 45921/208923 [00:01<00:06, 24703.95it/s]"
     ]
    },
    {
     "name": "stderr",
     "output_type": "stream",
     "text": [
      "\r",
      " 23%|█████████████████████████████████▏                                                                                                            | 48793/208923 [00:01<00:06, 25805.28it/s]"
     ]
    },
    {
     "name": "stderr",
     "output_type": "stream",
     "text": [
      "\r",
      " 25%|███████████████████████████████████                                                                                                           | 51654/208923 [00:01<00:05, 26595.51it/s]"
     ]
    },
    {
     "name": "stderr",
     "output_type": "stream",
     "text": [
      "\r",
      " 26%|████████████████████████████████████▉                                                                                                         | 54405/208923 [00:02<00:05, 26641.35it/s]"
     ]
    },
    {
     "name": "stderr",
     "output_type": "stream",
     "text": [
      "\r",
      " 27%|██████████████████████████████████████▉                                                                                                       | 57269/208923 [00:02<00:05, 27218.63it/s]"
     ]
    },
    {
     "name": "stderr",
     "output_type": "stream",
     "text": [
      "\r",
      " 29%|████████████████████████████████████████▊                                                                                                     | 60049/208923 [00:02<00:05, 27388.27it/s]"
     ]
    },
    {
     "name": "stderr",
     "output_type": "stream",
     "text": [
      "\r",
      " 30%|██████████████████████████████████████████▋                                                                                                   | 62822/208923 [00:02<00:05, 27243.40it/s]"
     ]
    },
    {
     "name": "stderr",
     "output_type": "stream",
     "text": [
      "\r",
      " 31%|████████████████████████████████████████████▌                                                                                                 | 65570/208923 [00:02<00:05, 27272.53it/s]"
     ]
    },
    {
     "name": "stderr",
     "output_type": "stream",
     "text": [
      "\r",
      " 33%|██████████████████████████████████████████████▌                                                                                               | 68468/208923 [00:02<00:05, 27775.83it/s]"
     ]
    },
    {
     "name": "stderr",
     "output_type": "stream",
     "text": [
      "\r",
      " 34%|████████████████████████████████████████████████▍                                                                                             | 71258/208923 [00:02<00:04, 27639.94it/s]"
     ]
    },
    {
     "name": "stderr",
     "output_type": "stream",
     "text": [
      "\r",
      " 35%|██████████████████████████████████████████████████▍                                                                                           | 74162/208923 [00:02<00:04, 28052.12it/s]"
     ]
    },
    {
     "name": "stderr",
     "output_type": "stream",
     "text": [
      "\r",
      " 37%|████████████████████████████████████████████████████▍                                                                                         | 77073/208923 [00:02<00:04, 28364.50it/s]"
     ]
    },
    {
     "name": "stderr",
     "output_type": "stream",
     "text": [
      "\r",
      " 38%|██████████████████████████████████████████████████████▎                                                                                       | 79915/208923 [00:02<00:04, 28080.92it/s]"
     ]
    },
    {
     "name": "stderr",
     "output_type": "stream",
     "text": [
      "\r",
      " 40%|████████████████████████████████████████████████████████▎                                                                                     | 82813/208923 [00:03<00:04, 28344.98it/s]"
     ]
    },
    {
     "name": "stderr",
     "output_type": "stream",
     "text": [
      "\r",
      " 41%|██████████████████████████████████████████████████████████▏                                                                                   | 85651/208923 [00:03<00:04, 27602.77it/s]"
     ]
    },
    {
     "name": "stderr",
     "output_type": "stream",
     "text": [
      "\r",
      " 42%|████████████████████████████████████████████████████████████                                                                                  | 88418/208923 [00:03<00:04, 27365.06it/s]"
     ]
    },
    {
     "name": "stderr",
     "output_type": "stream",
     "text": [
      "\r",
      " 44%|██████████████████████████████████████████████████████████████                                                                                | 91339/208923 [00:03<00:04, 27902.79it/s]"
     ]
    },
    {
     "name": "stderr",
     "output_type": "stream",
     "text": [
      "\r",
      " 45%|████████████████████████████████████████████████████████████████                                                                              | 94249/208923 [00:03<00:04, 28254.26it/s]"
     ]
    },
    {
     "name": "stderr",
     "output_type": "stream",
     "text": [
      "\r",
      " 46%|█████████████████████████████████████████████████████████████████▉                                                                            | 97078/208923 [00:03<00:03, 28033.32it/s]"
     ]
    },
    {
     "name": "stderr",
     "output_type": "stream",
     "text": [
      "\r",
      " 48%|███████████████████████████████████████████████████████████████████▉                                                                          | 99884/208923 [00:03<00:03, 27939.45it/s]"
     ]
    },
    {
     "name": "stderr",
     "output_type": "stream",
     "text": [
      "\r",
      " 49%|█████████████████████████████████████████████████████████████████████▎                                                                       | 102772/208923 [00:03<00:03, 28216.19it/s]"
     ]
    },
    {
     "name": "stderr",
     "output_type": "stream",
     "text": [
      "\r",
      " 51%|███████████████████████████████████████████████████████████████████████▎                                                                     | 105596/208923 [00:03<00:03, 27894.04it/s]"
     ]
    },
    {
     "name": "stderr",
     "output_type": "stream",
     "text": [
      "\r",
      " 52%|█████████████████████████████████████████████████████████████████████████▏                                                                   | 108446/208923 [00:03<00:03, 28071.93it/s]"
     ]
    },
    {
     "name": "stderr",
     "output_type": "stream",
     "text": [
      "\r",
      " 53%|███████████████████████████████████████████████████████████████████████████                                                                  | 111257/208923 [00:04<00:03, 28082.27it/s]"
     ]
    },
    {
     "name": "stderr",
     "output_type": "stream",
     "text": [
      "\r",
      " 55%|████████████████████████████████████████████████████████████████████████████▉                                                                | 114067/208923 [00:04<00:03, 27654.28it/s]"
     ]
    },
    {
     "name": "stderr",
     "output_type": "stream",
     "text": [
      "\r",
      " 56%|██████████████████████████████████████████████████████████████████████████████▊                                                              | 116835/208923 [00:04<00:03, 27603.02it/s]"
     ]
    },
    {
     "name": "stderr",
     "output_type": "stream",
     "text": [
      "\r",
      " 57%|████████████████████████████████████████████████████████████████████████████████▊                                                            | 119723/208923 [00:04<00:03, 27978.63it/s]"
     ]
    },
    {
     "name": "stderr",
     "output_type": "stream",
     "text": [
      "\r",
      " 59%|██████████████████████████████████████████████████████████████████████████████████▋                                                          | 122523/208923 [00:04<00:03, 27854.49it/s]"
     ]
    },
    {
     "name": "stderr",
     "output_type": "stream",
     "text": [
      "\r",
      " 60%|████████████████████████████████████████████████████████████████████████████████████▋                                                        | 125398/208923 [00:04<00:02, 28119.32it/s]"
     ]
    },
    {
     "name": "stderr",
     "output_type": "stream",
     "text": [
      "\r",
      " 61%|██████████████████████████████████████████████████████████████████████████████████████▌                                                      | 128266/208923 [00:04<00:02, 28284.46it/s]"
     ]
    },
    {
     "name": "stderr",
     "output_type": "stream",
     "text": [
      "\r",
      " 63%|████████████████████████████████████████████████████████████████████████████████████████▍                                                    | 131096/208923 [00:04<00:02, 27985.01it/s]"
     ]
    },
    {
     "name": "stderr",
     "output_type": "stream",
     "text": [
      "\r",
      " 64%|██████████████████████████████████████████████████████████████████████████████████████████▍                                                  | 133953/208923 [00:04<00:02, 28155.80it/s]"
     ]
    },
    {
     "name": "stderr",
     "output_type": "stream",
     "text": [
      "\r",
      " 65%|████████████████████████████████████████████████████████████████████████████████████████████▎                                                | 136774/208923 [00:04<00:02, 27905.88it/s]"
     ]
    },
    {
     "name": "stderr",
     "output_type": "stream",
     "text": [
      "\r",
      " 67%|██████████████████████████████████████████████████████████████████████████████████████████████▏                                              | 139643/208923 [00:05<00:02, 28136.51it/s]"
     ]
    },
    {
     "name": "stderr",
     "output_type": "stream",
     "text": [
      "\r",
      " 68%|████████████████████████████████████████████████████████████████████████████████████████████████▏                                            | 142507/208923 [00:05<00:02, 28285.34it/s]"
     ]
    },
    {
     "name": "stderr",
     "output_type": "stream",
     "text": [
      "\r",
      " 70%|██████████████████████████████████████████████████████████████████████████████████████████████████                                           | 145337/208923 [00:05<00:02, 27922.73it/s]"
     ]
    },
    {
     "name": "stderr",
     "output_type": "stream",
     "text": [
      "\r",
      " 71%|███████████████████████████████████████████████████████████████████████████████████████████████████▉                                         | 148131/208923 [00:05<00:03, 16831.85it/s]"
     ]
    },
    {
     "name": "stderr",
     "output_type": "stream",
     "text": [
      "\r",
      " 72%|█████████████████████████████████████████████████████████████████████████████████████████████████████▉                                       | 150982/208923 [00:05<00:03, 19203.39it/s]"
     ]
    },
    {
     "name": "stderr",
     "output_type": "stream",
     "text": [
      "\r",
      " 74%|███████████████████████████████████████████████████████████████████████████████████████████████████████▊                                     | 153841/208923 [00:05<00:02, 21312.72it/s]"
     ]
    },
    {
     "name": "stderr",
     "output_type": "stream",
     "text": [
      "\r",
      " 75%|█████████████████████████████████████████████████████████████████████████████████████████████████████████▋                                   | 156509/208923 [00:05<00:02, 22615.84it/s]"
     ]
    },
    {
     "name": "stderr",
     "output_type": "stream",
     "text": [
      "\r",
      " 76%|███████████████████████████████████████████████████████████████████████████████████████████████████████████▌                                 | 159375/208923 [00:06<00:02, 24171.75it/s]"
     ]
    },
    {
     "name": "stderr",
     "output_type": "stream",
     "text": [
      "\r",
      " 78%|█████████████████████████████████████████████████████████████████████████████████████████████████████████████▍                               | 162203/208923 [00:06<00:01, 25275.13it/s]"
     ]
    },
    {
     "name": "stderr",
     "output_type": "stream",
     "text": [
      "\r",
      " 79%|███████████████████████████████████████████████████████████████████████████████████████████████████████████████▎                             | 164917/208923 [00:06<00:01, 25572.71it/s]"
     ]
    },
    {
     "name": "stderr",
     "output_type": "stream",
     "text": [
      "\r",
      " 80%|█████████████████████████████████████████████████████████████████████████████████████████████████████████████████▏                           | 167753/208923 [00:06<00:01, 26356.86it/s]"
     ]
    },
    {
     "name": "stderr",
     "output_type": "stream",
     "text": [
      "\r",
      " 82%|███████████████████████████████████████████████████████████████████████████████████████████████████████████████████                          | 170583/208923 [00:06<00:01, 26913.94it/s]"
     ]
    },
    {
     "name": "stderr",
     "output_type": "stream",
     "text": [
      "\r",
      " 83%|████████████████████████████████████████████████████████████████████████████████████████████████████████████████████▉                        | 173345/208923 [00:06<00:01, 26725.71it/s]"
     ]
    },
    {
     "name": "stderr",
     "output_type": "stream",
     "text": [
      "\r",
      " 84%|██████████████████████████████████████████████████████████████████████████████████████████████████████████████████████▉                      | 176161/208923 [00:06<00:01, 27140.16it/s]"
     ]
    },
    {
     "name": "stderr",
     "output_type": "stream",
     "text": [
      "\r",
      " 86%|████████████████████████████████████████████████████████████████████████████████████████████████████████████████████████▊                    | 178978/208923 [00:06<00:01, 27441.56it/s]"
     ]
    },
    {
     "name": "stderr",
     "output_type": "stream",
     "text": [
      "\r",
      " 87%|██████████████████████████████████████████████████████████████████████████████████████████████████████████████████████████▋                  | 181748/208923 [00:06<00:01, 27119.72it/s]"
     ]
    },
    {
     "name": "stderr",
     "output_type": "stream",
     "text": [
      "\r",
      " 88%|████████████████████████████████████████████████████████████████████████████████████████████████████████████████████████████▌                | 184570/208923 [00:06<00:00, 27440.09it/s]"
     ]
    },
    {
     "name": "stderr",
     "output_type": "stream",
     "text": [
      "\r",
      " 90%|██████████████████████████████████████████████████████████████████████████████████████████████████████████████████████████████▍              | 187389/208923 [00:07<00:00, 27661.15it/s]"
     ]
    },
    {
     "name": "stderr",
     "output_type": "stream",
     "text": [
      "\r",
      " 91%|████████████████████████████████████████████████████████████████████████████████████████████████████████████████████████████████▎            | 190166/208923 [00:07<00:00, 27348.15it/s]"
     ]
    },
    {
     "name": "stderr",
     "output_type": "stream",
     "text": [
      "\r",
      " 92%|██████████████████████████████████████████████████████████████████████████████████████████████████████████████████████████████████▏          | 192982/208923 [00:07<00:00, 27586.02it/s]"
     ]
    },
    {
     "name": "stderr",
     "output_type": "stream",
     "text": [
      "\r",
      " 94%|████████████████████████████████████████████████████████████████████████████████████████████████████████████████████████████████████▏        | 195798/208923 [00:07<00:00, 27754.70it/s]"
     ]
    },
    {
     "name": "stderr",
     "output_type": "stream",
     "text": [
      "\r",
      " 95%|██████████████████████████████████████████████████████████████████████████████████████████████████████████████████████████████████████       | 198578/208923 [00:07<00:00, 27345.21it/s]"
     ]
    },
    {
     "name": "stderr",
     "output_type": "stream",
     "text": [
      "\r",
      " 96%|███████████████████████████████████████████████████████████████████████████████████████████████████████████████████████████████████████▉     | 201390/208923 [00:07<00:00, 27571.09it/s]"
     ]
    },
    {
     "name": "stderr",
     "output_type": "stream",
     "text": [
      "\r",
      " 98%|█████████████████████████████████████████████████████████████████████████████████████████████████████████████████████████████████████████▊   | 204201/208923 [00:07<00:00, 27729.41it/s]"
     ]
    },
    {
     "name": "stderr",
     "output_type": "stream",
     "text": [
      "\r",
      " 99%|███████████████████████████████████████████████████████████████████████████████████████████████████████████████████████████████████████████▋ | 206977/208923 [00:07<00:00, 27288.78it/s]"
     ]
    },
    {
     "name": "stderr",
     "output_type": "stream",
     "text": [
      "\r",
      "100%|█████████████████████████████████████████████████████████████████████████████████████████████████████████████████████████████████████████████| 208923/208923 [00:07<00:00, 26734.08it/s]"
     ]
    },
    {
     "name": "stderr",
     "output_type": "stream",
     "text": [
      "\n"
     ]
    }
   ],
   "source": [
    "'''\n",
    "CREATE TRAINING DATA\n",
    "'''\n",
    "def check_sequence(s, alphabet=ALPHABET_PROTEIN):\n",
    "    for aa in s:\n",
    "        if aa not in ALPHABET_PROTEIN:\n",
    "            return False\n",
    "    return True\n",
    "\n",
    "msa_sequences = [str(x.seq) for x in SeqIO.parse(msa_fn, 'fasta')]\n",
    "msa_sequences = [s.replace(\".\", \"-\").upper() for s in msa_sequences]\n",
    "wt_seq = msa_sequences[0]\n",
    "columns_to_keep = [i for i in range(len(wt_seq))]\n",
    "msa_sequences = [[s[i] for i in columns_to_keep] for s in msa_sequences]\n",
    "#msa_sequences = [[s[i].upper() for i in columns_to_keep] for s in msa_sequences]\n",
    "#msa_sequences = [[aa.replace(\".\", \"-\") for aa in s] for s in msa_sequences]\n",
    "msa_sequences = np.asarray(msa_sequences)\n",
    "msa_sequences = [s for s in msa_sequences if check_sequence(s)]\n",
    "msa_sequences = np.asarray(msa_sequences)\n",
    "if False:\n",
    "    threshold_sequence_frac_gaps=0.5\n",
    "    threshold_focus_cols_frac_gaps=0.3\n",
    "    gap_array = np.asarray([[1 if aa == \"-\" else 0 for aa in s] for s in msa_sequences])\n",
    "    msa_sequences = msa_sequences[~(gap_array.mean(axis=1) > threshold_sequence_frac_gaps)]\n",
    "    msa_sequences = msa_sequences[:, ~(gap_array.mean(axis=0) > threshold_focus_cols_frac_gaps)]\n",
    "\n",
    "seqs_enc, aa_to_i = encode(msa_sequences)\n",
    "i_to_a = {i:aa for i, aa in enumerate(ALPHABET_PROTEIN)}\n",
    "weights = np.load(weight_fn)\n",
    "assert weights.shape[0] == len(msa_sequences)\n",
    "seqs_onehot = torch.nn.functional.one_hot(seqs_enc, num_classes=len(ALPHABET_PROTEIN)).to(torch.float)\n",
    "train_ds = TensorDataset(seqs_onehot, torch.tensor(weights))"
   ]
  },
  {
   "cell_type": "code",
   "execution_count": 11,
   "id": "18a71aa3",
   "metadata": {
    "collapsed": false
   },
   "outputs": [],
   "source": [
    "train_X, train_w = train_ds[:]\n",
    "wt_enc = train_X[0].argmax(dim=-1)"
   ]
  },
  {
   "cell_type": "code",
   "execution_count": 14,
   "id": "965a3eee",
   "metadata": {
    "collapsed": false
   },
   "outputs": [
    {
     "name": "stderr",
     "output_type": "stream",
     "text": [
      "\r",
      "  0%|                                                                                                                                                                 | 0/20 [00:00<?, ?it/s]"
     ]
    },
    {
     "name": "stderr",
     "output_type": "stream",
     "text": [
      "\r",
      "  0%|                                                                                           | 0/20 [00:05<?, ?it/s, epoch_l=4.33e+7, loss=257, mem=6.2e+8, num_iters=208, spearman=0.682]"
     ]
    },
    {
     "name": "stderr",
     "output_type": "stream",
     "text": [
      "\r",
      "  5%|████▏                                                                              | 1/20 [00:05<01:35,  5.04s/it, epoch_l=4.33e+7, loss=257, mem=6.2e+8, num_iters=208, spearman=0.682]"
     ]
    },
    {
     "name": "stderr",
     "output_type": "stream",
     "text": [
      "\r",
      "  5%|████▏                                                                              | 1/20 [00:09<01:35,  5.04s/it, epoch_l=3.67e+7, loss=236, mem=6.2e+8, num_iters=416, spearman=0.694]"
     ]
    },
    {
     "name": "stderr",
     "output_type": "stream",
     "text": [
      "\r",
      " 10%|████████▎                                                                          | 2/20 [00:09<01:25,  4.75s/it, epoch_l=3.67e+7, loss=236, mem=6.2e+8, num_iters=416, spearman=0.694]"
     ]
    },
    {
     "name": "stderr",
     "output_type": "stream",
     "text": [
      "\r",
      " 10%|████████▌                                                                            | 2/20 [00:14<01:25,  4.75s/it, epoch_l=3.41e+7, loss=226, mem=6.2e+8, num_iters=624, spearman=0.7]"
     ]
    },
    {
     "name": "stderr",
     "output_type": "stream",
     "text": [
      "\r",
      " 15%|████████████▊                                                                        | 3/20 [00:14<01:18,  4.65s/it, epoch_l=3.41e+7, loss=226, mem=6.2e+8, num_iters=624, spearman=0.7]"
     ]
    },
    {
     "name": "stderr",
     "output_type": "stream",
     "text": [
      "\r",
      " 15%|████████████▍                                                                      | 3/20 [00:18<01:18,  4.65s/it, epoch_l=3.26e+7, loss=218, mem=6.2e+8, num_iters=832, spearman=0.706]"
     ]
    },
    {
     "name": "stderr",
     "output_type": "stream",
     "text": [
      "\r",
      " 20%|████████████████▌                                                                  | 4/20 [00:18<01:13,  4.58s/it, epoch_l=3.26e+7, loss=218, mem=6.2e+8, num_iters=832, spearman=0.706]"
     ]
    },
    {
     "name": "stderr",
     "output_type": "stream",
     "text": [
      "\r",
      " 20%|████████████████▍                                                                 | 4/20 [00:23<01:13,  4.58s/it, epoch_l=3.14e+7, loss=214, mem=6.2e+8, num_iters=1040, spearman=0.707]"
     ]
    },
    {
     "name": "stderr",
     "output_type": "stream",
     "text": [
      "\r",
      " 25%|████████████████████▌                                                             | 5/20 [00:23<01:08,  4.57s/it, epoch_l=3.14e+7, loss=214, mem=6.2e+8, num_iters=1040, spearman=0.707]"
     ]
    },
    {
     "name": "stderr",
     "output_type": "stream",
     "text": [
      "\r",
      " 25%|████████████████████▊                                                              | 5/20 [00:27<01:08,  4.57s/it, epoch_l=3.04e+7, loss=211, mem=6.2e+8, num_iters=1248, spearman=0.71]"
     ]
    },
    {
     "name": "stderr",
     "output_type": "stream",
     "text": [
      "\r",
      " 30%|████████████████████████▉                                                          | 6/20 [00:27<01:04,  4.58s/it, epoch_l=3.04e+7, loss=211, mem=6.2e+8, num_iters=1248, spearman=0.71]"
     ]
    },
    {
     "name": "stderr",
     "output_type": "stream",
     "text": [
      "\r",
      " 30%|████████████████████████▌                                                         | 6/20 [00:32<01:04,  4.58s/it, epoch_l=2.98e+7, loss=204, mem=6.2e+8, num_iters=1456, spearman=0.711]"
     ]
    },
    {
     "name": "stderr",
     "output_type": "stream",
     "text": [
      "\r",
      " 35%|████████████████████████████▋                                                     | 7/20 [00:32<00:59,  4.58s/it, epoch_l=2.98e+7, loss=204, mem=6.2e+8, num_iters=1456, spearman=0.711]"
     ]
    },
    {
     "name": "stderr",
     "output_type": "stream",
     "text": [
      "\r",
      " 35%|████████████████████████████▋                                                     | 7/20 [00:36<00:59,  4.58s/it, epoch_l=2.92e+7, loss=205, mem=6.2e+8, num_iters=1664, spearman=0.712]"
     ]
    },
    {
     "name": "stderr",
     "output_type": "stream",
     "text": [
      "\r",
      " 40%|████████████████████████████████▊                                                 | 8/20 [00:36<00:54,  4.58s/it, epoch_l=2.92e+7, loss=205, mem=6.2e+8, num_iters=1664, spearman=0.712]"
     ]
    },
    {
     "name": "stderr",
     "output_type": "stream",
     "text": [
      "\r",
      " 40%|████████████████████████████████▊                                                 | 8/20 [00:41<00:54,  4.58s/it, epoch_l=2.87e+7, loss=206, mem=6.2e+8, num_iters=1872, spearman=0.713]"
     ]
    },
    {
     "name": "stderr",
     "output_type": "stream",
     "text": [
      "\r",
      " 45%|████████████████████████████████████▉                                             | 9/20 [00:41<00:50,  4.58s/it, epoch_l=2.87e+7, loss=206, mem=6.2e+8, num_iters=1872, spearman=0.713]"
     ]
    },
    {
     "name": "stderr",
     "output_type": "stream",
     "text": [
      "\r",
      " 45%|████████████████████████████████████▉                                             | 9/20 [00:46<00:50,  4.58s/it, epoch_l=2.83e+7, loss=203, mem=6.2e+8, num_iters=2080, spearman=0.713]"
     ]
    },
    {
     "name": "stderr",
     "output_type": "stream",
     "text": [
      "\r",
      " 50%|████████████████████████████████████████▌                                        | 10/20 [00:46<00:45,  4.57s/it, epoch_l=2.83e+7, loss=203, mem=6.2e+8, num_iters=2080, spearman=0.713]"
     ]
    },
    {
     "name": "stderr",
     "output_type": "stream",
     "text": [
      "\r",
      " 50%|█████████████████████████████████████████                                         | 10/20 [00:50<00:45,  4.57s/it, epoch_l=2.79e+7, loss=198, mem=6.2e+8, num_iters=2288, spearman=0.71]"
     ]
    },
    {
     "name": "stderr",
     "output_type": "stream",
     "text": [
      "\r",
      " 55%|█████████████████████████████████████████████                                     | 11/20 [00:50<00:41,  4.57s/it, epoch_l=2.79e+7, loss=198, mem=6.2e+8, num_iters=2288, spearman=0.71]"
     ]
    },
    {
     "name": "stderr",
     "output_type": "stream",
     "text": [
      "\r",
      " 55%|████████████████████████████████████████████▌                                    | 11/20 [00:55<00:41,  4.57s/it, epoch_l=2.76e+7, loss=199, mem=6.2e+8, num_iters=2496, spearman=0.711]"
     ]
    },
    {
     "name": "stderr",
     "output_type": "stream",
     "text": [
      "\r",
      " 60%|████████████████████████████████████████████████▌                                | 12/20 [00:55<00:36,  4.58s/it, epoch_l=2.76e+7, loss=199, mem=6.2e+8, num_iters=2496, spearman=0.711]"
     ]
    },
    {
     "name": "stderr",
     "output_type": "stream",
     "text": [
      "\r",
      " 60%|█████████████████████████████████████████████████▏                                | 12/20 [00:59<00:36,  4.58s/it, epoch_l=2.73e+7, loss=197, mem=6.2e+8, num_iters=2704, spearman=0.71]"
     ]
    },
    {
     "name": "stderr",
     "output_type": "stream",
     "text": [
      "\r",
      " 65%|█████████████████████████████████████████████████████▎                            | 13/20 [00:59<00:32,  4.60s/it, epoch_l=2.73e+7, loss=197, mem=6.2e+8, num_iters=2704, spearman=0.71]"
     ]
    },
    {
     "name": "stderr",
     "output_type": "stream",
     "text": [
      "\r",
      " 65%|████████████████████████████████████████████████████▋                            | 13/20 [01:04<00:32,  4.60s/it, epoch_l=2.71e+7, loss=198, mem=6.2e+8, num_iters=2912, spearman=0.708]"
     ]
    },
    {
     "name": "stderr",
     "output_type": "stream",
     "text": [
      "\r",
      " 70%|████████████████████████████████████████████████████████▋                        | 14/20 [01:04<00:27,  4.61s/it, epoch_l=2.71e+7, loss=198, mem=6.2e+8, num_iters=2912, spearman=0.708]"
     ]
    },
    {
     "name": "stderr",
     "output_type": "stream",
     "text": [
      "\r",
      " 70%|████████████████████████████████████████████████████████▋                        | 14/20 [01:09<00:27,  4.61s/it, epoch_l=2.68e+7, loss=198, mem=6.2e+8, num_iters=3120, spearman=0.708]"
     ]
    },
    {
     "name": "stderr",
     "output_type": "stream",
     "text": [
      "\r",
      " 75%|████████████████████████████████████████████████████████████▊                    | 15/20 [01:09<00:23,  4.62s/it, epoch_l=2.68e+7, loss=198, mem=6.2e+8, num_iters=3120, spearman=0.708]"
     ]
    },
    {
     "name": "stderr",
     "output_type": "stream",
     "text": [
      "\r",
      " 75%|████████████████████████████████████████████████████████████▊                    | 15/20 [01:13<00:23,  4.62s/it, epoch_l=2.66e+7, loss=198, mem=6.2e+8, num_iters=3328, spearman=0.708]"
     ]
    },
    {
     "name": "stderr",
     "output_type": "stream",
     "text": [
      "\r",
      " 80%|████████████████████████████████████████████████████████████████▊                | 16/20 [01:13<00:18,  4.60s/it, epoch_l=2.66e+7, loss=198, mem=6.2e+8, num_iters=3328, spearman=0.708]"
     ]
    },
    {
     "name": "stderr",
     "output_type": "stream",
     "text": [
      "\r",
      " 80%|█████████████████████████████████████████████████████████████████▌                | 16/20 [01:18<00:18,  4.60s/it, epoch_l=2.64e+7, loss=196, mem=6.2e+8, num_iters=3536, spearman=0.71]"
     ]
    },
    {
     "name": "stderr",
     "output_type": "stream",
     "text": [
      "\r",
      " 85%|█████████████████████████████████████████████████████████████████████▋            | 17/20 [01:18<00:13,  4.62s/it, epoch_l=2.64e+7, loss=196, mem=6.2e+8, num_iters=3536, spearman=0.71]"
     ]
    },
    {
     "name": "stderr",
     "output_type": "stream",
     "text": [
      "\r",
      " 85%|████████████████████████████████████████████████████████████████████▊            | 17/20 [01:22<00:13,  4.62s/it, epoch_l=2.63e+7, loss=196, mem=6.2e+8, num_iters=3744, spearman=0.709]"
     ]
    },
    {
     "name": "stderr",
     "output_type": "stream",
     "text": [
      "\r",
      " 90%|████████████████████████████████████████████████████████████████████████▉        | 18/20 [01:22<00:09,  4.63s/it, epoch_l=2.63e+7, loss=196, mem=6.2e+8, num_iters=3744, spearman=0.709]"
     ]
    },
    {
     "name": "stderr",
     "output_type": "stream",
     "text": [
      "\r",
      " 90%|█████████████████████████████████████████████████████████████████████████▊        | 18/20 [01:27<00:09,  4.63s/it, epoch_l=2.61e+7, loss=196, mem=6.2e+8, num_iters=3952, spearman=0.71]"
     ]
    },
    {
     "name": "stderr",
     "output_type": "stream",
     "text": [
      "\r",
      " 95%|█████████████████████████████████████████████████████████████████████████████▉    | 19/20 [01:27<00:04,  4.65s/it, epoch_l=2.61e+7, loss=196, mem=6.2e+8, num_iters=3952, spearman=0.71]"
     ]
    },
    {
     "name": "stderr",
     "output_type": "stream",
     "text": [
      "\r",
      " 95%|██████████████████████████████████████████████████████████████████████████████▊    | 19/20 [01:32<00:04,  4.65s/it, epoch_l=2.6e+7, loss=198, mem=6.2e+8, num_iters=4160, spearman=0.71]"
     ]
    },
    {
     "name": "stderr",
     "output_type": "stream",
     "text": [
      "\r",
      "100%|███████████████████████████████████████████████████████████████████████████████████| 20/20 [01:32<00:00,  4.65s/it, epoch_l=2.6e+7, loss=198, mem=6.2e+8, num_iters=4160, spearman=0.71]"
     ]
    },
    {
     "name": "stderr",
     "output_type": "stream",
     "text": [
      "\r",
      "100%|███████████████████████████████████████████████████████████████████████████████████| 20/20 [01:32<00:00,  4.62s/it, epoch_l=2.6e+7, loss=198, mem=6.2e+8, num_iters=4160, spearman=0.71]"
     ]
    },
    {
     "name": "stderr",
     "output_type": "stream",
     "text": [
      "\n"
     ]
    }
   ],
   "source": [
    "##############################################################\n",
    "############## Train Potts Model #############################\n",
    "##############################################################\n",
    "device='cuda'\n",
    "\n",
    "seq_len = len(msa_sequences[0])\n",
    "num_tokens = 21\n",
    "model = Potts(seq_len, num_tokens, wt_enc=None)\n",
    "lam=1e-7\n",
    "lr=1e-1\n",
    "n_epoch=20\n",
    "model = train_sgd(model, train_X, train_w, lam, bs=1000, lr=lr, device=device, n_epoch=n_epoch, mut_seqs_onehot=mut_seqs_onehot, y_dms=y_dms)"
   ]
  },
  {
   "cell_type": "code",
   "execution_count": 17,
   "id": "4b8f4847",
   "metadata": {
    "collapsed": false
   },
   "outputs": [],
   "source": [
    "def sample_potts(model, replay_buffer, proposal_dist, n_steps, device):\n",
    "    # get samples from replay buffer\n",
    "    samples = replay_buffer.sample()\n",
    "    samples = samples.to(device)\n",
    "    # update samples with MCMC using proposal_dist\n",
    "    samples_new = proposal_dist.sample_nsteps(samples, model, n_steps)\n",
    "    # update replay buffer\n",
    "    replay_buffer.update(samples_new)\n",
    "    return samples_new\n",
    "\n",
    "\n",
    "bs = 1000\n",
    "proposal_dist = PottsGWGCategoricalSampler(bs, seq_len, num_tokens, device)\n",
    "init_X = train_X[:bs].to(device)"
   ]
  },
  {
   "cell_type": "code",
   "execution_count": 25,
   "id": "bba895c3",
   "metadata": {
    "collapsed": false
   },
   "outputs": [],
   "source": [
    "n_steps = 100\n",
    "init_X = train_X[:bs].to(device)\n",
    "samples_new = proposal_dist.sample_nsteps(init_X, model, n_steps)"
   ]
  },
  {
   "cell_type": "code",
   "execution_count": 30,
   "id": "0acfe9ca",
   "metadata": {
    "collapsed": false
   },
   "outputs": [
    {
     "name": "stdout",
     "output_type": "stream",
     "text": [
      "tensor(-695.5458, device='cuda:0')\n"
     ]
    }
   ],
   "source": [
    "with torch.no_grad():\n",
    "    energies = model(samples_new)\n",
    "    print(energies.mean())\n",
    "    "
   ]
  },
  {
   "cell_type": "code",
   "execution_count": 31,
   "id": "544db37b",
   "metadata": {
    "collapsed": false
   },
   "outputs": [
    {
     "name": "stdout",
     "output_type": "stream",
     "text": [
      "tensor(-863.5359, device='cuda:0')\n"
     ]
    }
   ],
   "source": [
    "n_steps = 100\n",
    "init_X = train_X[:bs].to(device)\n",
    "\n",
    "model.temp = 0.2 # set temperature lower\n",
    "samples_new = proposal_dist.sample_nsteps(init_X, model, n_steps)\n",
    "\n",
    "with torch.no_grad():\n",
    "    energies = model(samples_new)\n",
    "    print(energies.mean())\n",
    "\n",
    "# we will get lower energy sample"
   ]
  }
 ],
 "metadata": {
  "kernelspec": {
   "argv": [
    "/data/mambaforge/envs/pytorch_hunter/bin/python",
    "-m",
    "ipykernel_launcher",
    "-f",
    "{connection_file}"
   ],
   "display_name": "Python 3 (ipykernel)",
   "env": null,
   "interrupt_mode": "signal",
   "language": "python",
   "metadata": {
    "debugger": true
   },
   "name": "python3"
  },
  "name": "Example_Potts_Sample.ipynb"
 },
 "nbformat": 4,
 "nbformat_minor": 5
}
